{
 "cells": [
  {
   "cell_type": "code",
   "execution_count": 36,
   "metadata": {},
   "outputs": [
    {
     "name": "stdout",
     "output_type": "stream",
     "text": [
      "[38, 39, 40, 40, 41] 138.0\n",
      "[44, 50, 50, 50, 51, 51, 51, 52, 52, 52, 53, 53, 53, 54, 54, 54, 54, 55, 55, 55, 55, 56, 56, 56, 56, 57, 57, 57, 57, 58, 58, 58, 59, 59, 59, 60, 60, 60, 61] 24.352941176470587\n"
     ]
    },
    {
     "ename": "KeyboardInterrupt",
     "evalue": "",
     "output_type": "error",
     "traceback": [
      "\u001b[1;31m---------------------------------------------------------------------------\u001b[0m",
      "\u001b[1;31mKeyboardInterrupt\u001b[0m                         Traceback (most recent call last)",
      "\u001b[1;32m<ipython-input-36-cfa895c3a592>\u001b[0m in \u001b[0;36m<module>\u001b[1;34m\u001b[0m\n\u001b[0;32m     37\u001b[0m     \u001b[0mcv2\u001b[0m\u001b[1;33m.\u001b[0m\u001b[0mpolylines\u001b[0m\u001b[1;33m(\u001b[0m\u001b[0mframe\u001b[0m\u001b[1;33m,\u001b[0m\u001b[1;33m[\u001b[0m\u001b[0mpts1\u001b[0m\u001b[1;33m]\u001b[0m\u001b[1;33m,\u001b[0m\u001b[1;36m1\u001b[0m\u001b[1;33m,\u001b[0m\u001b[1;33m(\u001b[0m\u001b[1;36m0\u001b[0m\u001b[1;33m,\u001b[0m\u001b[1;36m255\u001b[0m\u001b[1;33m,\u001b[0m\u001b[1;36m255\u001b[0m\u001b[1;33m)\u001b[0m\u001b[1;33m)\u001b[0m\u001b[1;33m\u001b[0m\u001b[1;33m\u001b[0m\u001b[0m\n\u001b[0;32m     38\u001b[0m     \u001b[0mfgmask\u001b[0m \u001b[1;33m=\u001b[0m \u001b[0mfgbg\u001b[0m\u001b[1;33m.\u001b[0m\u001b[0mapply\u001b[0m\u001b[1;33m(\u001b[0m\u001b[0mframe\u001b[0m\u001b[1;33m)\u001b[0m\u001b[1;33m\u001b[0m\u001b[1;33m\u001b[0m\u001b[0m\n\u001b[1;32m---> 39\u001b[1;33m     \u001b[0mshad\u001b[0m\u001b[1;33m=\u001b[0m\u001b[0mshadow\u001b[0m\u001b[1;33m(\u001b[0m\u001b[0mframe\u001b[0m\u001b[1;33m)\u001b[0m\u001b[1;33m\u001b[0m\u001b[1;33m\u001b[0m\u001b[0m\n\u001b[0m\u001b[0;32m     40\u001b[0m     \u001b[0mcv2\u001b[0m\u001b[1;33m.\u001b[0m\u001b[0mimshow\u001b[0m\u001b[1;33m(\u001b[0m\u001b[1;34m'window1'\u001b[0m\u001b[1;33m,\u001b[0m\u001b[0mfgmask\u001b[0m\u001b[1;33m)\u001b[0m\u001b[1;33m\u001b[0m\u001b[1;33m\u001b[0m\u001b[0m\n\u001b[0;32m     41\u001b[0m     \u001b[0mcv2\u001b[0m\u001b[1;33m.\u001b[0m\u001b[0mimshow\u001b[0m\u001b[1;33m(\u001b[0m\u001b[1;34m'window2'\u001b[0m\u001b[1;33m,\u001b[0m\u001b[0mshad\u001b[0m\u001b[1;33m)\u001b[0m\u001b[1;33m\u001b[0m\u001b[1;33m\u001b[0m\u001b[0m\n",
      "\u001b[1;32m<ipython-input-36-cfa895c3a592>\u001b[0m in \u001b[0;36mshadow\u001b[1;34m(frame)\u001b[0m\n\u001b[0;32m     25\u001b[0m \u001b[1;32mdef\u001b[0m \u001b[0mshadow\u001b[0m\u001b[1;33m(\u001b[0m\u001b[0mframe\u001b[0m\u001b[1;33m)\u001b[0m\u001b[1;33m:\u001b[0m\u001b[1;33m\u001b[0m\u001b[1;33m\u001b[0m\u001b[0m\n\u001b[0;32m     26\u001b[0m     \u001b[0mgimg\u001b[0m\u001b[1;33m=\u001b[0m\u001b[0mcv2\u001b[0m\u001b[1;33m.\u001b[0m\u001b[0mcvtColor\u001b[0m\u001b[1;33m(\u001b[0m\u001b[0mframe\u001b[0m\u001b[1;33m,\u001b[0m\u001b[0mcv2\u001b[0m\u001b[1;33m.\u001b[0m\u001b[0mCOLOR_BGR2GRAY\u001b[0m\u001b[1;33m)\u001b[0m\u001b[1;33m\u001b[0m\u001b[1;33m\u001b[0m\u001b[0m\n\u001b[1;32m---> 27\u001b[1;33m     \u001b[0m_\u001b[0m\u001b[1;33m,\u001b[0m\u001b[0mth\u001b[0m\u001b[1;33m=\u001b[0m\u001b[0mcv2\u001b[0m\u001b[1;33m.\u001b[0m\u001b[0mthreshold\u001b[0m\u001b[1;33m(\u001b[0m\u001b[0mgimg\u001b[0m\u001b[1;33m,\u001b[0m\u001b[1;36m140\u001b[0m\u001b[1;33m,\u001b[0m\u001b[1;36m255\u001b[0m\u001b[1;33m,\u001b[0m\u001b[0mcv2\u001b[0m\u001b[1;33m.\u001b[0m\u001b[0mTHRESH_BINARY\u001b[0m\u001b[1;33m)\u001b[0m\u001b[1;33m\u001b[0m\u001b[1;33m\u001b[0m\u001b[0m\n\u001b[0m\u001b[0;32m     28\u001b[0m     \u001b[0mfg\u001b[0m\u001b[1;33m=\u001b[0m\u001b[0mcv2\u001b[0m\u001b[1;33m.\u001b[0m\u001b[0mbitwise_and\u001b[0m\u001b[1;33m(\u001b[0m\u001b[0mth\u001b[0m\u001b[1;33m,\u001b[0m\u001b[0mth\u001b[0m\u001b[1;33m,\u001b[0m\u001b[0mmask\u001b[0m\u001b[1;33m=\u001b[0m\u001b[0mfgmask\u001b[0m\u001b[1;33m)\u001b[0m\u001b[1;33m\u001b[0m\u001b[1;33m\u001b[0m\u001b[0m\n\u001b[0;32m     29\u001b[0m     \u001b[1;32mreturn\u001b[0m \u001b[0mfg\u001b[0m\u001b[1;33m\u001b[0m\u001b[1;33m\u001b[0m\u001b[0m\n",
      "\u001b[1;31mKeyboardInterrupt\u001b[0m: "
     ]
    }
   ],
   "source": [
    "import pandas as pd\n",
    "import numpy as np\n",
    "import cv2\n",
    "import matplotlib.pyplot as plt\n",
    "from shapely.geometry import Point\n",
    "from shapely.geometry.polygon import Polygon\n",
    "\n",
    "\n",
    "cap = cv2.VideoCapture(r'C:\\Users\\Administrator\\Desktop\\dlproject\\video.mp4')\n",
    "font=cv2.FONT_HERSHEY_SIMPLEX\n",
    "ret, frame = cap.read()\n",
    "frame=frame[:,200:]\n",
    "fgbg = cv2.createBackgroundSubtractorMOG2()\n",
    "polygon1 = Polygon([[709,405],[844,326],[1345,403],[1262,512]])\n",
    "kernel1 = np.array([[1,1],[1,1]])\n",
    "fcount=0\n",
    "a=[]\n",
    "r=0\n",
    "speed=0\n",
    "count=0\n",
    "c=0\n",
    "OverSpeed=[]\n",
    "fourc=cv2.VideoWriter_fourcc(*'XVID')\n",
    "out1=cv2.VideoWriter(r'D:\\projects\\safe\\video\\speed.mp4',fourc,30.0,(640,480))\n",
    "out2=cv2.VideoWriter(r'D:\\projects\\safe\\video\\shadow.mp4',fourc,30.0,(640,480))\n",
    "out3=cv2.VideoWriter(r'D:\\projects\\safe\\video\\wshadow.mp4',fourc,30.0,(640,480))\n",
    "def shadow(frame):\n",
    "    gimg=cv2.cvtColor(frame,cv2.COLOR_BGR2GRAY)\n",
    "    _,th=cv2.threshold(gimg,140,255,cv2.THRESH_BINARY)\n",
    "    fg=cv2.bitwise_and(th,th,mask=fgmask)\n",
    "    return fg\n",
    "while(ret):\n",
    "    fcount=fcount+1\n",
    "    ret, frame = cap.read()\n",
    "    frame=frame[:,200:]\n",
    "    img=frame.copy()\n",
    "    pts1=np.array([[809,405],[944,326],[1345,403],[1262,512]],np.int32)\n",
    "    pts1=pts1.reshape((-1,1,2))\n",
    "    cv2.polylines(frame,[pts1],1,(0,255,255))\n",
    "    fgmask = fgbg.apply(frame)\n",
    "    shad=shadow(frame)\n",
    "    cv2.imshow('window1',fgmask)\n",
    "    cv2.imshow('window2',shad)\n",
    "    out2.write(fgmask)\n",
    "    out3.write(shad)\n",
    "    fgmask = cv2.morphologyEx(fgmask, cv2.MORPH_CLOSE, kernel1)\n",
    "    fgmask=cv2.erode(fgmask,kernel1,iterations=2)\n",
    "    fgmask=cv2.dilate(fgmask, kernel1, iterations=10)\n",
    "    gimg=cv2.cvtColor(frame,cv2.COLOR_BGR2GRAY)\n",
    "    _,th=cv2.threshold(gimg,140,255,cv2.THRESH_BINARY)\n",
    "    fg=cv2.bitwise_and(th,th,mask=fgmask)\n",
    "    img[:,:,2]=cv2.add(img[:,:,2],fg)\n",
    "\n",
    "    \n",
    "    \n",
    "    \n",
    "    ## speed and contour ##\n",
    "    contours, hierarchy = cv2.findContours(fg.copy(), cv2.RETR_EXTERNAL, cv2.CHAIN_APPROX_SIMPLE)\n",
    "    \n",
    "    for contour in contours:\n",
    "        (x, y, w, h)=cv2.boundingRect(contour)\n",
    "        if w>=25 and h>=25:\n",
    "            cv2.rectangle(frame, (x, y), (x+w, y+h), (255,0,0), 1)\n",
    "            cv2.circle(frame,(int(x+w/2),int(y+(h)/2)),5,(0,0,255),-1)\n",
    "            if(polygon1.contains(Point(int(x+w/2),int(y+(h)/2)))):\n",
    "                a.append(fcount)\n",
    "            else:\n",
    "                pass\n",
    "                \n",
    "    dist=4.6\n",
    "    fps=25\n",
    "    if len(a)>1:\n",
    "        if fcount-max(a)>1:\n",
    "            #print(a)\n",
    "            speed=((dist*fps)/(max(a)-min(a)))*(18/5)\n",
    "            count=count+1\n",
    "            print(a,speed)\n",
    "            a=[]\n",
    "    s=\"SPEED =\"+str(round(speed,2))\n",
    "    cv2.putText(frame,s,(0,100),font,1,(0,255,0),2,cv2.LINE_AA)\n",
    "    out1.write(frame)\n",
    "    cv2.imshow('window3',frame)\n",
    "    k = cv2.waitKey(1)\n",
    "    if k == ord('q'):\n",
    "        break\n",
    "cap.release()\n",
    "out1.release()\n",
    "out2.release()\n",
    "out3.release()\n",
    "cv2.destroyAllWindows()"
   ]
  },
  {
   "cell_type": "code",
   "execution_count": 39,
   "metadata": {},
   "outputs": [
    {
     "name": "stderr",
     "output_type": "stream",
     "text": [
      "'git' is not recognized as an internal or external command,\n",
      "operable program or batch file.\n",
      "'git' is not recognized as an internal or external command,\n",
      "operable program or batch file.\n",
      "'git' is not recognized as an internal or external command,\n",
      "operable program or batch file.\n",
      "'git' is not recognized as an internal or external command,\n",
      "operable program or batch file.\n",
      "'git' is not recognized as an internal or external command,\n",
      "operable program or batch file.\n"
     ]
    }
   ],
   "source": [
    "\n",
    "!git init\n",
    "!git add README.md\n",
    "!git commit -m \"first commit\"\n",
    "!git remote add origin https://github.com/Prajwalbhandary17/Vehicle_speed_setection.git\n",
    "!git push -u origin master\n",
    "                "
   ]
  },
  {
   "cell_type": "code",
   "execution_count": 40,
   "metadata": {},
   "outputs": [
    {
     "data": {
      "text/plain": [
       "'C:\\\\Users\\\\Administrator'"
      ]
     },
     "execution_count": 40,
     "metadata": {},
     "output_type": "execute_result"
    }
   ],
   "source": [
    "pwd"
   ]
  },
  {
   "cell_type": "code",
   "execution_count": null,
   "metadata": {},
   "outputs": [],
   "source": []
  }
 ],
 "metadata": {
  "kernelspec": {
   "display_name": "Python 3",
   "language": "python",
   "name": "python3"
  },
  "language_info": {
   "codemirror_mode": {
    "name": "ipython",
    "version": 3
   },
   "file_extension": ".py",
   "mimetype": "text/x-python",
   "name": "python",
   "nbconvert_exporter": "python",
   "pygments_lexer": "ipython3",
   "version": "3.7.6"
  }
 },
 "nbformat": 4,
 "nbformat_minor": 4
}
